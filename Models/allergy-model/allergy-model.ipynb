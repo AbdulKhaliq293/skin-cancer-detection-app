{
 "cells": [
  {
   "cell_type": "code",
   "execution_count": 1,
   "metadata": {
    "execution": {
     "iopub.execute_input": "2020-09-21T06:26:56.213498Z",
     "iopub.status.busy": "2020-09-21T06:26:56.212674Z",
     "iopub.status.idle": "2020-09-21T06:27:02.348221Z",
     "shell.execute_reply": "2020-09-21T06:27:02.347228Z"
    },
    "papermill": {
     "duration": 6.163202,
     "end_time": "2020-09-21T06:27:02.348497",
     "exception": false,
     "start_time": "2020-09-21T06:26:56.185295",
     "status": "completed"
    },
    "tags": []
   },
   "outputs": [],
   "source": [
    "import os\n",
    "import cv2\n",
    "import pandas as pd\n",
    "import numpy as np\n",
    "import keras\n",
    "from keras.utils import to_categorical\n",
    "from sklearn.model_selection import train_test_split\n",
    "import gc"
   ]
  },
  {
   "cell_type": "code",
   "execution_count": 2,
   "metadata": {
    "execution": {
     "iopub.execute_input": "2020-09-21T06:27:02.410330Z",
     "iopub.status.busy": "2020-09-21T06:27:02.408368Z",
     "iopub.status.idle": "2020-09-21T06:27:02.411033Z",
     "shell.execute_reply": "2020-09-21T06:27:02.411572Z"
    },
    "papermill": {
     "duration": 0.028472,
     "end_time": "2020-09-21T06:27:02.411720",
     "exception": false,
     "start_time": "2020-09-21T06:27:02.383248",
     "status": "completed"
    },
    "tags": []
   },
   "outputs": [],
   "source": [
    "train_dir = \"../input/dermnet-images-final/dermnet images\""
   ]
  },
  {
   "cell_type": "code",
   "execution_count": 3,
   "metadata": {
    "execution": {
     "iopub.execute_input": "2020-09-21T06:27:02.469818Z",
     "iopub.status.busy": "2020-09-21T06:27:02.468942Z",
     "iopub.status.idle": "2020-09-21T06:27:02.473345Z",
     "shell.execute_reply": "2020-09-21T06:27:02.472643Z"
    },
    "papermill": {
     "duration": 0.041347,
     "end_time": "2020-09-21T06:27:02.473471",
     "exception": false,
     "start_time": "2020-09-21T06:27:02.432124",
     "status": "completed"
    },
    "tags": []
   },
   "outputs": [],
   "source": [
    "labels_dict = {\n",
    "    'Acne-and-Rosacea-Photos' : 0,\n",
    "    'Eczema-and-Atopic-Dermatitis-Photos' : 1,\n",
    "    'Seborrheic-Keratoses-and-other-Benign-Tumors' : 2,\n",
    "    'Urticaria-Hives' : 3\n",
    "}\n",
    "def data_loader():\n",
    "    #imgs = np.empty(shape=[0, 256, 256, 3])\n",
    "    images = []\n",
    "    labels = []\n",
    "    size = 256,256\n",
    "    print(\"Loading...\")\n",
    "    for folder in sorted(os.listdir(train_dir)):\n",
    "        print(folder)\n",
    "        for image in os.listdir(train_dir + \"/\" + folder):\n",
    "            temp_img = cv2.imread(train_dir + '/' + folder + '/' + image)\n",
    "            temp_img = cv2.resize(temp_img, size)\n",
    "            #temp_img = [temp_img]\n",
    "            images.append(temp_img)\n",
    "            if folder == 'Acne-and-Rosacea-Photos':\n",
    "                labels.append(labels_dict['Acne-and-Rosacea-Photos'])\n",
    "            elif folder == 'Eczema-and-Atopic-Dermatitis-Photos':\n",
    "                labels.append(labels_dict['Eczema-and-Atopic-Dermatitis-Photos'])\n",
    "            elif folder == 'Seborrheic-Keratoses-and-other-Benign-Tumors':\n",
    "                labels.append(labels_dict['Seborrheic-Keratoses-and-other-Benign-Tumors'])\n",
    "            elif folder == 'Urticaria-Hives':\n",
    "                labels.append(labels_dict['Urticaria-Hives'])\n",
    "            #del temp_img, image\n",
    "            #gc.collect()\n",
    "    images = np.array(images)\n",
    "    #imgs = np.append(imgs, images, axis=0)\n",
    "    #del images\n",
    "    #gc.collect()\n",
    "    #imgs = np.array(images)\n",
    "    #print(narr.shape)\n",
    "    #imgs = np.append(imgs, narr, axis=0)\n",
    "    print('Total images : ',images.shape[0])\n",
    "    #del images,narrr \n",
    "    #gc.collect()\n",
    "\n",
    "    #images = images.astype('float32')/255.0\n",
    "    \n",
    "    templabels = labels\n",
    "    \n",
    "    labels = to_categorical(labels)\n",
    "        \n",
    "    X_train, X_test, y_train, y_test = train_test_split(images, labels, train_size=0.95, random_state=42)\n",
    "    #X_train, X_val, y_train, y_val = train_test_split(X_train, y_train, train_size=0.85, random_state=42)\n",
    "    \n",
    "    del images, labels\n",
    "    gc.collect()\n",
    "    \n",
    "    #return X_train, y_train, X_test, y_test, X_val, y_val, templabels\n",
    "    return X_train, y_train, X_test, y_test, templabels"
   ]
  },
  {
   "cell_type": "code",
   "execution_count": 4,
   "metadata": {
    "execution": {
     "iopub.execute_input": "2020-09-21T06:27:02.519743Z",
     "iopub.status.busy": "2020-09-21T06:27:02.518984Z",
     "iopub.status.idle": "2020-09-21T06:27:50.307270Z",
     "shell.execute_reply": "2020-09-21T06:27:50.306037Z"
    },
    "papermill": {
     "duration": 47.812525,
     "end_time": "2020-09-21T06:27:50.307423",
     "exception": false,
     "start_time": "2020-09-21T06:27:02.494898",
     "status": "completed"
    },
    "tags": []
   },
   "outputs": [
    {
     "name": "stdout",
     "output_type": "stream",
     "text": [
      "Loading...\n",
      "Acne-and-Rosacea-Photos\n",
      "Eczema-and-Atopic-Dermatitis-Photos\n",
      "Seborrheic-Keratoses-and-other-Benign-Tumors\n",
      "Urticaria-Hives\n",
      "Total images :  5017\n"
     ]
    }
   ],
   "source": [
    "X_train, y_train, X_test, y_test, labels = data_loader()"
   ]
  },
  {
   "cell_type": "code",
   "execution_count": 5,
   "metadata": {
    "execution": {
     "iopub.execute_input": "2020-09-21T06:27:50.359069Z",
     "iopub.status.busy": "2020-09-21T06:27:50.358164Z",
     "iopub.status.idle": "2020-09-21T06:27:50.460312Z",
     "shell.execute_reply": "2020-09-21T06:27:50.459148Z"
    },
    "papermill": {
     "duration": 0.130829,
     "end_time": "2020-09-21T06:27:50.460452",
     "exception": false,
     "start_time": "2020-09-21T06:27:50.329623",
     "status": "completed"
    },
    "tags": []
   },
   "outputs": [],
   "source": [
    "from keras.preprocessing.image import ImageDataGenerator\n",
    "from keras import regularizers\n",
    "from keras.optimizers import SGD\n",
    "from keras.models import load_model\n",
    "from keras.callbacks import ModelCheckpoint\n",
    "from keras.callbacks import Callback\n",
    "import matplotlib.pyplot as plt\n",
    "import seaborn as sns"
   ]
  },
  {
   "cell_type": "code",
   "execution_count": 6,
   "metadata": {
    "execution": {
     "iopub.execute_input": "2020-09-21T06:27:50.519278Z",
     "iopub.status.busy": "2020-09-21T06:27:50.518173Z",
     "iopub.status.idle": "2020-09-21T06:27:50.521789Z",
     "shell.execute_reply": "2020-09-21T06:27:50.521015Z"
    },
    "papermill": {
     "duration": 0.037884,
     "end_time": "2020-09-21T06:27:50.521917",
     "exception": false,
     "start_time": "2020-09-21T06:27:50.484033",
     "status": "completed"
    },
    "tags": []
   },
   "outputs": [],
   "source": [
    "import math\n",
    "from math import *\n",
    "from keras import backend\n",
    "\n",
    "class CosineAnnealingLearningRateSchedule(Callback):\n",
    "    from keras import backend\n",
    "\n",
    "    # constructor\n",
    "    def __init__(self, n_epochs, n_cycles, lrate_max, verbose=0):\n",
    "        self.epochs = n_epochs\n",
    "        self.cycles = n_cycles\n",
    "        self.lr_max = lrate_max\n",
    "        self.lrates = list()\n",
    " \n",
    "    # calculate learning rate for an epoch\n",
    "    def cosine_annealing(self, epoch, n_epochs, n_cycles, lrate_max):\n",
    "        epochs_per_cycle = floor(n_epochs/n_cycles)\n",
    "        cos_inner = (pi * (epoch % epochs_per_cycle)) / (epochs_per_cycle)\n",
    "        return lrate_max/2 * (cos(cos_inner) + 1)\n",
    " \n",
    "    # calculate and set learning rate at the start of the epoch\n",
    "    def on_epoch_begin(self, epoch, logs=None):\n",
    "        # calculate learning rate\n",
    "        lr = self.cosine_annealing(epoch, self.epochs, self.cycles, self.lr_max)\n",
    "        # set learning rate\n",
    "        backend.set_value(self.model.optimizer.lr, lr)\n",
    "        # log value\n",
    "        self.lrates.append(lr)"
   ]
  },
  {
   "cell_type": "code",
   "execution_count": 7,
   "metadata": {
    "execution": {
     "iopub.execute_input": "2020-09-21T06:27:50.572943Z",
     "iopub.status.busy": "2020-09-21T06:27:50.572264Z",
     "iopub.status.idle": "2020-09-21T06:27:50.576709Z",
     "shell.execute_reply": "2020-09-21T06:27:50.575860Z"
    },
    "papermill": {
     "duration": 0.031611,
     "end_time": "2020-09-21T06:27:50.576821",
     "exception": false,
     "start_time": "2020-09-21T06:27:50.545210",
     "status": "completed"
    },
    "tags": []
   },
   "outputs": [],
   "source": [
    "#!pip install git+https://github.com/qubvel/efficientnet"
   ]
  },
  {
   "cell_type": "code",
   "execution_count": 8,
   "metadata": {
    "execution": {
     "iopub.execute_input": "2020-09-21T06:27:50.629870Z",
     "iopub.status.busy": "2020-09-21T06:27:50.628987Z",
     "iopub.status.idle": "2020-09-21T06:28:03.043741Z",
     "shell.execute_reply": "2020-09-21T06:28:03.043015Z"
    },
    "papermill": {
     "duration": 12.443622,
     "end_time": "2020-09-21T06:28:03.043866",
     "exception": false,
     "start_time": "2020-09-21T06:27:50.600244",
     "status": "completed"
    },
    "tags": []
   },
   "outputs": [
    {
     "name": "stdout",
     "output_type": "stream",
     "text": [
      "Collecting pip\r\n",
      "  Downloading pip-20.2.3-py2.py3-none-any.whl (1.5 MB)\r\n",
      "\u001b[K     |████████████████████████████████| 1.5 MB 549 kB/s \r\n",
      "\u001b[?25hInstalling collected packages: pip\r\n",
      "  Attempting uninstall: pip\r\n",
      "    Found existing installation: pip 20.2.2\r\n",
      "    Uninstalling pip-20.2.2:\r\n",
      "      Successfully uninstalled pip-20.2.2\r\n",
      "Successfully installed pip-20.2.3\r\n"
     ]
    }
   ],
   "source": [
    "!/opt/conda/bin/python3.7 -m pip install --upgrade pip"
   ]
  },
  {
   "cell_type": "code",
   "execution_count": 9,
   "metadata": {
    "execution": {
     "iopub.execute_input": "2020-09-21T06:28:03.124403Z",
     "iopub.status.busy": "2020-09-21T06:28:03.111661Z",
     "iopub.status.idle": "2020-09-21T06:28:12.106857Z",
     "shell.execute_reply": "2020-09-21T06:28:12.107419Z"
    },
    "papermill": {
     "duration": 9.032027,
     "end_time": "2020-09-21T06:28:12.107595",
     "exception": false,
     "start_time": "2020-09-21T06:28:03.075568",
     "status": "completed"
    },
    "tags": []
   },
   "outputs": [],
   "source": [
    "!pip install -q tensorflow-model-optimization "
   ]
  },
  {
   "cell_type": "code",
   "execution_count": 10,
   "metadata": {
    "execution": {
     "iopub.execute_input": "2020-09-21T06:28:12.185916Z",
     "iopub.status.busy": "2020-09-21T06:28:12.182755Z",
     "iopub.status.idle": "2020-09-21T06:28:12.215151Z",
     "shell.execute_reply": "2020-09-21T06:28:12.214428Z"
    },
    "papermill": {
     "duration": 0.076825,
     "end_time": "2020-09-21T06:28:12.215271",
     "exception": false,
     "start_time": "2020-09-21T06:28:12.138446",
     "status": "completed"
    },
    "tags": []
   },
   "outputs": [],
   "source": [
    "from keras.optimizers import Adam, Adadelta\n",
    "from keras.models import Sequential\n",
    "from keras.layers import Dense, Dropout, Flatten, Conv2D, MaxPooling2D, AveragePooling2D, SpatialDropout2D, BatchNormalization, LeakyReLU, Activation\n",
    "from keras.layers.advanced_activations import LeakyReLU\n",
    "from keras.applications.vgg16 import VGG16\n",
    "#from efficientnet.keras import EfficientNetB3\n",
    "from keras.models import Model\n",
    "import tensorflow as tf\n",
    "import tensorflow_model_optimization as tfmot\n",
    "#%load_ext tensorboard\n",
    "\n",
    "def create_model():\n",
    "    input_shape = (256, 256, 3)\n",
    "    num_classes = 4\n",
    "\n",
    "    model = VGG16(weights = 'imagenet', include_top=False, input_shape=input_shape)\n",
    "    for layer in model.layers:\n",
    "        layer.trainable = False\n",
    "    # add new classifier layers\n",
    "    flat = Flatten()(model.layers[-1].output)\n",
    "    class1 = Dense(128)(flat)\n",
    "    drop1 = Dropout(0.2)(class1)\n",
    "    act1 = LeakyReLU(alpha=0.1)(drop1)\n",
    "    class2 = Dense(128)(act1)\n",
    "    drop2 = Dropout(0.2)(class2)\n",
    "    act2 = LeakyReLU(alpha=0.1)(drop2)\n",
    "    output = Dense(num_classes, activation='softmax')(act2)\n",
    "    # define new model\n",
    "    model = Model(inputs=model.inputs, outputs=output)\n",
    "    \n",
    "    sgd = SGD(momentum = 0.9)\n",
    "    #, decay = 1e-6, nesterov = True)\n",
    "    adam = Adam()\n",
    "    \n",
    "    model.compile(loss='categorical_crossentropy',\n",
    "            optimizer=adam,\n",
    "            metrics=['accuracy'])\n",
    "\n",
    "    print(\"MODEL CREATED\")\n",
    "    model.summary()\n",
    "    return model"
   ]
  },
  {
   "cell_type": "code",
   "execution_count": 11,
   "metadata": {
    "execution": {
     "iopub.execute_input": "2020-09-21T06:28:12.282458Z",
     "iopub.status.busy": "2020-09-21T06:28:12.281458Z",
     "iopub.status.idle": "2020-09-21T06:28:12.284702Z",
     "shell.execute_reply": "2020-09-21T06:28:12.284073Z"
    },
    "papermill": {
     "duration": 0.038362,
     "end_time": "2020-09-21T06:28:12.284812",
     "exception": false,
     "start_time": "2020-09-21T06:28:12.246450",
     "status": "completed"
    },
    "tags": []
   },
   "outputs": [],
   "source": [
    "cfg = dict(\n",
    "           batch_size=32,    \n",
    "           lr_start=0.00005,\n",
    "           lr_max=0.0000125,\n",
    "           lr_min=0.00001,\n",
    "           lr_rampup=5,\n",
    "           lr_sustain=0,\n",
    "           lr_decay=0.8\n",
    "        )"
   ]
  },
  {
   "cell_type": "code",
   "execution_count": 12,
   "metadata": {
    "execution": {
     "iopub.execute_input": "2020-09-21T06:28:12.358378Z",
     "iopub.status.busy": "2020-09-21T06:28:12.357369Z",
     "iopub.status.idle": "2020-09-21T06:28:12.360302Z",
     "shell.execute_reply": "2020-09-21T06:28:12.359644Z"
    },
    "papermill": {
     "duration": 0.044788,
     "end_time": "2020-09-21T06:28:12.360412",
     "exception": false,
     "start_time": "2020-09-21T06:28:12.315624",
     "status": "completed"
    },
    "tags": []
   },
   "outputs": [],
   "source": [
    "from keras.callbacks import LearningRateScheduler\n",
    "\n",
    "def getLearnRateCallback(cfg):\n",
    "    \n",
    "    ''' Using callbacks for learning rate adjustments. '''\n",
    "    \n",
    "    lr_start = cfg['lr_start']\n",
    "    lr_max = cfg['lr_max'] * cfg['batch_size']\n",
    "    lr_min = cfg['lr_min']\n",
    "    lr_rampup = cfg['lr_rampup']\n",
    "    lr_sustain = cfg['lr_sustain']\n",
    "    lr_decay = cfg['lr_decay']\n",
    "\n",
    "    def lrfn(epoch):\n",
    "        if epoch < lr_rampup:\n",
    "            lr = (lr_max - lr_start) / lr_rampup * epoch + lr_start\n",
    "        elif epoch < lr_rampup + lr_sustain:\n",
    "            lr = lr_max\n",
    "        else:\n",
    "            lr = (lr_max - lr_min) * lr_decay**(epoch - lr_rampup -\n",
    "                                                lr_sustain) + lr_min\n",
    "        return lr\n",
    "\n",
    "    lr_callback = LearningRateScheduler(lrfn, verbose=True)\n",
    "    return lr_callback"
   ]
  },
  {
   "cell_type": "code",
   "execution_count": 13,
   "metadata": {
    "execution": {
     "iopub.execute_input": "2020-09-21T06:28:12.430425Z",
     "iopub.status.busy": "2020-09-21T06:28:12.429014Z",
     "iopub.status.idle": "2020-09-21T06:28:42.523208Z",
     "shell.execute_reply": "2020-09-21T06:28:42.522556Z"
    },
    "papermill": {
     "duration": 30.132561,
     "end_time": "2020-09-21T06:28:42.523358",
     "exception": false,
     "start_time": "2020-09-21T06:28:12.390797",
     "status": "completed"
    },
    "tags": []
   },
   "outputs": [],
   "source": [
    "datagen = ImageDataGenerator(\n",
    "        rescale=1./255,\n",
    "        featurewise_center=True,\n",
    "        samplewise_center=False,\n",
    "        featurewise_std_normalization=True,\n",
    "        samplewise_std_normalization=False,\n",
    "        zca_whitening=False,\n",
    "        rotation_range=10,\n",
    "        shear_range = 0.2,\n",
    "        zoom_range = 0.2,\n",
    "        width_shift_range=0.1,\n",
    "        height_shift_range=0.1,\n",
    "        horizontal_flip=True,\n",
    "        vertical_flip=False,\n",
    "        validation_split=0.15)\n",
    "\n",
    "datagen.fit(X_train)"
   ]
  },
  {
   "cell_type": "code",
   "execution_count": 14,
   "metadata": {
    "execution": {
     "iopub.execute_input": "2020-09-21T06:28:42.623432Z",
     "iopub.status.busy": "2020-09-21T06:28:42.622446Z",
     "iopub.status.idle": "2020-09-21T06:28:43.547999Z",
     "shell.execute_reply": "2020-09-21T06:28:43.546815Z"
    },
    "papermill": {
     "duration": 0.984902,
     "end_time": "2020-09-21T06:28:43.548155",
     "exception": false,
     "start_time": "2020-09-21T06:28:42.563253",
     "status": "completed"
    },
    "tags": []
   },
   "outputs": [],
   "source": [
    "train_iterator = datagen.flow(X_train, y_train, subset='training', batch_size=cfg['batch_size'])\n",
    "val_iterator = datagen.flow(X_train, y_train, subset='validation', batch_size=cfg['batch_size'])"
   ]
  },
  {
   "cell_type": "code",
   "execution_count": 15,
   "metadata": {
    "execution": {
     "iopub.execute_input": "2020-09-21T06:28:43.624405Z",
     "iopub.status.busy": "2020-09-21T06:28:43.623562Z",
     "iopub.status.idle": "2020-09-21T06:28:43.627403Z",
     "shell.execute_reply": "2020-09-21T06:28:43.626819Z"
    },
    "papermill": {
     "duration": 0.046904,
     "end_time": "2020-09-21T06:28:43.627513",
     "exception": false,
     "start_time": "2020-09-21T06:28:43.580609",
     "status": "completed"
    },
    "tags": []
   },
   "outputs": [],
   "source": [
    "from keras.callbacks import EarlyStopping\n",
    "import datetime\n",
    "def fit_model():\n",
    "    checkpoint = ModelCheckpoint(\n",
    "        'weights-{epoch:02d}-{loss:.4f}.hdf5',\n",
    "        monitor='val_loss',\n",
    "        verbose=1,\n",
    "        save_best_only=True,\n",
    "        mode='min',\n",
    "        save_freq = 4445\n",
    "  )\n",
    "    n_epochs = 200\n",
    "    n_cycles = n_epochs/20\n",
    "    #ca = CosineAnnealingLearningRateSchedule(n_epochs, n_cycles, 0.001, verbose=1), getLearnRateCallback(cfg)\n",
    "    #logdir = os.path.join(\"logs\", datetime.datetime.now().strftime(\"%Y%m%d-%H%M%S\"))\n",
    "    callbacks = [tfmot.sparsity.keras.UpdatePruningStep(),\n",
    "                 #tfmot.sparsity.keras.PruningSummaries(log_dir=logdir, profile_batch=0),\n",
    "                 EarlyStopping(monitor='val_accuracy', patience=20, verbose=1, mode='max'),\n",
    "                 checkpoint]\n",
    "    #model_hist = model.fit(train_iterator, epochs = n_epochs, callbacks = callbacks,  validation_data = val_iterator, verbose=1)\n",
    "    \n",
    "    pruning_schedule = tfmot.sparsity.keras.PolynomialDecay(\n",
    "        initial_sparsity=0.0, final_sparsity=0.5,\n",
    "        begin_step=2000, end_step=4000)\n",
    "\n",
    "    model_for_pruning = tfmot.sparsity.keras.prune_low_magnitude(\n",
    "        model, pruning_schedule=pruning_schedule)\n",
    "    \n",
    "    model_for_pruning.compile(loss='categorical_crossentropy',\n",
    "                  optimizer='adam',\n",
    "                  metrics=['accuracy'])\n",
    "    \n",
    "    model_hist = model_for_pruning.fit(train_iterator, epochs = n_epochs, callbacks = callbacks,  validation_data = val_iterator, verbose=1)\n",
    "    return model_hist"
   ]
  },
  {
   "cell_type": "code",
   "execution_count": 16,
   "metadata": {
    "execution": {
     "iopub.execute_input": "2020-09-21T06:28:43.700725Z",
     "iopub.status.busy": "2020-09-21T06:28:43.699928Z",
     "iopub.status.idle": "2020-09-21T08:33:46.167843Z",
     "shell.execute_reply": "2020-09-21T08:33:46.167271Z"
    },
    "papermill": {
     "duration": 7502.508748,
     "end_time": "2020-09-21T08:33:46.167968",
     "exception": false,
     "start_time": "2020-09-21T06:28:43.659220",
     "status": "completed"
    },
    "tags": []
   },
   "outputs": [
    {
     "name": "stdout",
     "output_type": "stream",
     "text": [
      "Downloading data from https://storage.googleapis.com/tensorflow/keras-applications/vgg16/vgg16_weights_tf_dim_ordering_tf_kernels_notop.h5\n",
      "58892288/58889256 [==============================] - 0s 0us/step\n",
      "MODEL CREATED\n",
      "Model: \"functional_1\"\n",
      "_________________________________________________________________\n",
      "Layer (type)                 Output Shape              Param #   \n",
      "=================================================================\n",
      "input_1 (InputLayer)         [(None, 256, 256, 3)]     0         \n",
      "_________________________________________________________________\n",
      "block1_conv1 (Conv2D)        (None, 256, 256, 64)      1792      \n",
      "_________________________________________________________________\n",
      "block1_conv2 (Conv2D)        (None, 256, 256, 64)      36928     \n",
      "_________________________________________________________________\n",
      "block1_pool (MaxPooling2D)   (None, 128, 128, 64)      0         \n",
      "_________________________________________________________________\n",
      "block2_conv1 (Conv2D)        (None, 128, 128, 128)     73856     \n",
      "_________________________________________________________________\n",
      "block2_conv2 (Conv2D)        (None, 128, 128, 128)     147584    \n",
      "_________________________________________________________________\n",
      "block2_pool (MaxPooling2D)   (None, 64, 64, 128)       0         \n",
      "_________________________________________________________________\n",
      "block3_conv1 (Conv2D)        (None, 64, 64, 256)       295168    \n",
      "_________________________________________________________________\n",
      "block3_conv2 (Conv2D)        (None, 64, 64, 256)       590080    \n",
      "_________________________________________________________________\n",
      "block3_conv3 (Conv2D)        (None, 64, 64, 256)       590080    \n",
      "_________________________________________________________________\n",
      "block3_pool (MaxPooling2D)   (None, 32, 32, 256)       0         \n",
      "_________________________________________________________________\n",
      "block4_conv1 (Conv2D)        (None, 32, 32, 512)       1180160   \n",
      "_________________________________________________________________\n",
      "block4_conv2 (Conv2D)        (None, 32, 32, 512)       2359808   \n",
      "_________________________________________________________________\n",
      "block4_conv3 (Conv2D)        (None, 32, 32, 512)       2359808   \n",
      "_________________________________________________________________\n",
      "block4_pool (MaxPooling2D)   (None, 16, 16, 512)       0         \n",
      "_________________________________________________________________\n",
      "block5_conv1 (Conv2D)        (None, 16, 16, 512)       2359808   \n",
      "_________________________________________________________________\n",
      "block5_conv2 (Conv2D)        (None, 16, 16, 512)       2359808   \n",
      "_________________________________________________________________\n",
      "block5_conv3 (Conv2D)        (None, 16, 16, 512)       2359808   \n",
      "_________________________________________________________________\n",
      "block5_pool (MaxPooling2D)   (None, 8, 8, 512)         0         \n",
      "_________________________________________________________________\n",
      "flatten (Flatten)            (None, 32768)             0         \n",
      "_________________________________________________________________\n",
      "dense (Dense)                (None, 128)               4194432   \n",
      "_________________________________________________________________\n",
      "dropout (Dropout)            (None, 128)               0         \n",
      "_________________________________________________________________\n",
      "leaky_re_lu (LeakyReLU)      (None, 128)               0         \n",
      "_________________________________________________________________\n",
      "dense_1 (Dense)              (None, 128)               16512     \n",
      "_________________________________________________________________\n",
      "dropout_1 (Dropout)          (None, 128)               0         \n",
      "_________________________________________________________________\n",
      "leaky_re_lu_1 (LeakyReLU)    (None, 128)               0         \n",
      "_________________________________________________________________\n",
      "dense_2 (Dense)              (None, 4)                 516       \n",
      "=================================================================\n",
      "Total params: 18,926,148\n",
      "Trainable params: 4,211,460\n",
      "Non-trainable params: 14,714,688\n",
      "_________________________________________________________________\n",
      "Epoch 1/200\n",
      "127/127 [==============================] - 80s 631ms/step - loss: 1.2236 - accuracy: 0.5913 - val_loss: 0.8059 - val_accuracy: 0.6737\n",
      "Epoch 2/200\n",
      "127/127 [==============================] - 81s 637ms/step - loss: 0.8243 - accuracy: 0.6740 - val_loss: 0.7886 - val_accuracy: 0.6905\n",
      "Epoch 3/200\n",
      "127/127 [==============================] - 80s 630ms/step - loss: 0.7611 - accuracy: 0.7046 - val_loss: 0.7097 - val_accuracy: 0.7129\n",
      "Epoch 4/200\n",
      "127/127 [==============================] - 80s 632ms/step - loss: 0.7013 - accuracy: 0.7270 - val_loss: 0.6951 - val_accuracy: 0.7199\n",
      "Epoch 5/200\n",
      "127/127 [==============================] - 81s 640ms/step - loss: 0.6684 - accuracy: 0.7349 - val_loss: 0.6889 - val_accuracy: 0.7227\n",
      "Epoch 6/200\n",
      "127/127 [==============================] - 79s 626ms/step - loss: 0.6434 - accuracy: 0.7498 - val_loss: 0.7336 - val_accuracy: 0.7311\n",
      "Epoch 7/200\n",
      "127/127 [==============================] - 80s 632ms/step - loss: 0.6382 - accuracy: 0.7433 - val_loss: 0.6527 - val_accuracy: 0.7185\n",
      "Epoch 8/200\n",
      "127/127 [==============================] - 81s 634ms/step - loss: 0.5944 - accuracy: 0.7636 - val_loss: 0.6793 - val_accuracy: 0.7465\n",
      "Epoch 9/200\n",
      "127/127 [==============================] - 79s 626ms/step - loss: 0.5845 - accuracy: 0.7762 - val_loss: 0.6339 - val_accuracy: 0.7451\n",
      "Epoch 10/200\n",
      "127/127 [==============================] - 80s 631ms/step - loss: 0.5692 - accuracy: 0.7791 - val_loss: 0.6710 - val_accuracy: 0.7465\n",
      "Epoch 11/200\n",
      "127/127 [==============================] - 81s 641ms/step - loss: 0.5497 - accuracy: 0.7962 - val_loss: 0.6796 - val_accuracy: 0.7381\n",
      "Epoch 12/200\n",
      "127/127 [==============================] - 79s 624ms/step - loss: 0.5315 - accuracy: 0.7868 - val_loss: 0.6403 - val_accuracy: 0.7647\n",
      "Epoch 13/200\n",
      "127/127 [==============================] - 80s 626ms/step - loss: 0.5161 - accuracy: 0.7957 - val_loss: 0.6557 - val_accuracy: 0.7423\n",
      "Epoch 14/200\n",
      "127/127 [==============================] - 82s 642ms/step - loss: 0.5030 - accuracy: 0.8077 - val_loss: 0.7005 - val_accuracy: 0.7185\n",
      "Epoch 15/200\n",
      "127/127 [==============================] - 80s 632ms/step - loss: 0.4691 - accuracy: 0.8142 - val_loss: 0.5938 - val_accuracy: 0.7829\n",
      "Epoch 16/200\n",
      "127/127 [==============================] - 82s 649ms/step - loss: 0.4753 - accuracy: 0.8208 - val_loss: 0.5913 - val_accuracy: 0.7675\n",
      "Epoch 17/200\n",
      "127/127 [==============================] - 81s 640ms/step - loss: 0.4506 - accuracy: 0.8253 - val_loss: 0.6869 - val_accuracy: 0.7535\n",
      "Epoch 18/200\n",
      "127/127 [==============================] - 81s 641ms/step - loss: 0.4410 - accuracy: 0.8287 - val_loss: 0.5925 - val_accuracy: 0.7703\n",
      "Epoch 19/200\n",
      "127/127 [==============================] - 83s 652ms/step - loss: 0.4316 - accuracy: 0.8403 - val_loss: 0.7001 - val_accuracy: 0.7465\n",
      "Epoch 20/200\n",
      "127/127 [==============================] - 82s 647ms/step - loss: 0.4381 - accuracy: 0.8302 - val_loss: 0.5863 - val_accuracy: 0.7885\n",
      "Epoch 21/200\n",
      "127/127 [==============================] - 82s 645ms/step - loss: 0.4092 - accuracy: 0.8319 - val_loss: 0.5741 - val_accuracy: 0.7871\n",
      "Epoch 22/200\n",
      "127/127 [==============================] - 84s 659ms/step - loss: 0.4253 - accuracy: 0.8332 - val_loss: 0.6072 - val_accuracy: 0.7843\n",
      "Epoch 23/200\n",
      "127/127 [==============================] - 81s 642ms/step - loss: 0.4459 - accuracy: 0.8260 - val_loss: 0.5509 - val_accuracy: 0.7927\n",
      "Epoch 24/200\n",
      "127/127 [==============================] - 83s 653ms/step - loss: 0.4063 - accuracy: 0.8411 - val_loss: 0.6286 - val_accuracy: 0.7871\n",
      "Epoch 25/200\n",
      "127/127 [==============================] - 83s 654ms/step - loss: 0.4609 - accuracy: 0.8226 - val_loss: 0.6270 - val_accuracy: 0.7563\n",
      "Epoch 26/200\n",
      "127/127 [==============================] - 81s 639ms/step - loss: 0.4776 - accuracy: 0.8127 - val_loss: 0.6200 - val_accuracy: 0.7577\n",
      "Epoch 27/200\n",
      "127/127 [==============================] - 86s 674ms/step - loss: 0.4903 - accuracy: 0.8112 - val_loss: 0.6660 - val_accuracy: 0.7199\n",
      "Epoch 28/200\n",
      "127/127 [==============================] - 85s 668ms/step - loss: 0.5381 - accuracy: 0.7870 - val_loss: 0.6369 - val_accuracy: 0.7507\n",
      "Epoch 29/200\n",
      "127/127 [==============================] - 83s 655ms/step - loss: 0.4946 - accuracy: 0.7981 - val_loss: 0.6149 - val_accuracy: 0.7773\n",
      "Epoch 30/200\n",
      "127/127 [==============================] - 82s 643ms/step - loss: 0.4672 - accuracy: 0.8193 - val_loss: 0.5973 - val_accuracy: 0.7717\n",
      "Epoch 31/200\n",
      "127/127 [==============================] - 83s 656ms/step - loss: 0.4461 - accuracy: 0.8231 - val_loss: 0.6618 - val_accuracy: 0.7633\n",
      "Epoch 32/200\n",
      "127/127 [==============================] - 82s 645ms/step - loss: 0.4485 - accuracy: 0.8235 - val_loss: 0.5944 - val_accuracy: 0.7801\n",
      "Epoch 33/200\n",
      "127/127 [==============================] - 83s 652ms/step - loss: 0.4175 - accuracy: 0.8342 - val_loss: 0.6063 - val_accuracy: 0.7703\n",
      "Epoch 34/200\n",
      "127/127 [==============================] - 84s 665ms/step - loss: 0.4244 - accuracy: 0.8379 - val_loss: 0.5802 - val_accuracy: 0.7941\n",
      "Epoch 35/200\n",
      "127/127 [==============================] - 82s 646ms/step - loss: 0.4290 - accuracy: 0.8206 - val_loss: 0.6475 - val_accuracy: 0.7633\n",
      "Epoch 36/200\n",
      "127/127 [==============================] - 83s 655ms/step - loss: 0.4054 - accuracy: 0.8393 - val_loss: 0.6601 - val_accuracy: 0.7577\n",
      "Epoch 37/200\n",
      "127/127 [==============================] - 82s 647ms/step - loss: 0.4167 - accuracy: 0.8327 - val_loss: 0.6691 - val_accuracy: 0.7675\n",
      "Epoch 38/200\n",
      "127/127 [==============================] - 84s 661ms/step - loss: 0.3838 - accuracy: 0.8460 - val_loss: 0.5663 - val_accuracy: 0.7815\n",
      "Epoch 39/200\n",
      "127/127 [==============================] - 83s 657ms/step - loss: 0.3840 - accuracy: 0.8482 - val_loss: 0.6369 - val_accuracy: 0.7675\n",
      "Epoch 40/200\n",
      "127/127 [==============================] - 84s 663ms/step - loss: 0.3568 - accuracy: 0.8633 - val_loss: 0.5497 - val_accuracy: 0.7885\n",
      "Epoch 41/200\n",
      "127/127 [==============================] - 84s 661ms/step - loss: 0.3597 - accuracy: 0.8603 - val_loss: 0.6055 - val_accuracy: 0.7787\n",
      "Epoch 42/200\n",
      "127/127 [==============================] - 86s 673ms/step - loss: 0.3514 - accuracy: 0.8583 - val_loss: 0.6089 - val_accuracy: 0.7969\n",
      "Epoch 43/200\n",
      "127/127 [==============================] - 84s 659ms/step - loss: 0.3373 - accuracy: 0.8719 - val_loss: 0.5788 - val_accuracy: 0.7717\n",
      "Epoch 44/200\n",
      "127/127 [==============================] - 84s 664ms/step - loss: 0.3400 - accuracy: 0.8603 - val_loss: 0.6408 - val_accuracy: 0.7871\n",
      "Epoch 45/200\n",
      "127/127 [==============================] - 83s 652ms/step - loss: 0.3437 - accuracy: 0.8630 - val_loss: 0.6085 - val_accuracy: 0.7773\n",
      "Epoch 46/200\n",
      "127/127 [==============================] - 86s 677ms/step - loss: 0.3150 - accuracy: 0.8759 - val_loss: 0.5815 - val_accuracy: 0.8011\n",
      "Epoch 47/200\n",
      "127/127 [==============================] - 83s 654ms/step - loss: 0.3165 - accuracy: 0.8731 - val_loss: 0.5733 - val_accuracy: 0.7899\n",
      "Epoch 48/200\n",
      "127/127 [==============================] - 85s 670ms/step - loss: 0.3092 - accuracy: 0.8813 - val_loss: 0.5963 - val_accuracy: 0.8081\n",
      "Epoch 49/200\n",
      "127/127 [==============================] - 84s 663ms/step - loss: 0.3090 - accuracy: 0.8786 - val_loss: 0.6416 - val_accuracy: 0.8011\n",
      "Epoch 50/200\n",
      "127/127 [==============================] - 83s 656ms/step - loss: 0.2892 - accuracy: 0.8902 - val_loss: 0.6438 - val_accuracy: 0.7997\n",
      "Epoch 51/200\n",
      "127/127 [==============================] - 86s 677ms/step - loss: 0.2750 - accuracy: 0.8907 - val_loss: 0.6401 - val_accuracy: 0.8039\n",
      "Epoch 52/200\n",
      "127/127 [==============================] - 84s 661ms/step - loss: 0.2768 - accuracy: 0.8917 - val_loss: 0.6110 - val_accuracy: 0.8221\n",
      "Epoch 53/200\n",
      "127/127 [==============================] - 86s 679ms/step - loss: 0.2771 - accuracy: 0.8956 - val_loss: 0.5743 - val_accuracy: 0.8151\n",
      "Epoch 54/200\n",
      "127/127 [==============================] - 85s 666ms/step - loss: 0.2823 - accuracy: 0.8931 - val_loss: 0.7272 - val_accuracy: 0.8151\n",
      "Epoch 55/200\n",
      "127/127 [==============================] - 83s 655ms/step - loss: 0.2794 - accuracy: 0.8924 - val_loss: 0.6256 - val_accuracy: 0.7927\n",
      "Epoch 56/200\n",
      "127/127 [==============================] - 87s 684ms/step - loss: 0.2630 - accuracy: 0.8961 - val_loss: 0.7031 - val_accuracy: 0.7871\n",
      "Epoch 57/200\n",
      "127/127 [==============================] - 84s 658ms/step - loss: 0.2684 - accuracy: 0.8976 - val_loss: 0.6388 - val_accuracy: 0.8053\n",
      "Epoch 58/200\n",
      "127/127 [==============================] - 88s 695ms/step - loss: 0.2621 - accuracy: 0.8986 - val_loss: 0.5799 - val_accuracy: 0.8109\n",
      "Epoch 59/200\n",
      "127/127 [==============================] - 84s 659ms/step - loss: 0.2541 - accuracy: 0.8986 - val_loss: 0.6717 - val_accuracy: 0.7787\n",
      "Epoch 60/200\n",
      "127/127 [==============================] - 85s 666ms/step - loss: 0.2573 - accuracy: 0.8983 - val_loss: 0.6648 - val_accuracy: 0.8053\n",
      "Epoch 61/200\n",
      "127/127 [==============================] - 85s 668ms/step - loss: 0.2487 - accuracy: 0.9047 - val_loss: 0.6204 - val_accuracy: 0.8137\n",
      "Epoch 62/200\n",
      "127/127 [==============================] - 86s 675ms/step - loss: 0.2573 - accuracy: 0.9008 - val_loss: 0.5203 - val_accuracy: 0.8263\n",
      "Epoch 63/200\n",
      "127/127 [==============================] - 84s 660ms/step - loss: 0.2480 - accuracy: 0.9030 - val_loss: 0.6485 - val_accuracy: 0.7885\n",
      "Epoch 64/200\n",
      "127/127 [==============================] - 85s 671ms/step - loss: 0.2386 - accuracy: 0.9092 - val_loss: 0.7041 - val_accuracy: 0.7913\n",
      "Epoch 65/200\n",
      "127/127 [==============================] - 86s 674ms/step - loss: 0.2286 - accuracy: 0.9119 - val_loss: 0.6545 - val_accuracy: 0.8011\n",
      "Epoch 66/200\n",
      "127/127 [==============================] - 82s 649ms/step - loss: 0.2250 - accuracy: 0.9121 - val_loss: 0.6024 - val_accuracy: 0.8165\n",
      "Epoch 67/200\n",
      "127/127 [==============================] - 87s 688ms/step - loss: 0.2323 - accuracy: 0.9089 - val_loss: 0.5569 - val_accuracy: 0.8235\n",
      "Epoch 68/200\n",
      "127/127 [==============================] - 84s 662ms/step - loss: 0.2151 - accuracy: 0.9168 - val_loss: 0.6654 - val_accuracy: 0.8207\n",
      "Epoch 69/200\n",
      "127/127 [==============================] - 85s 668ms/step - loss: 0.2267 - accuracy: 0.9131 - val_loss: 0.6075 - val_accuracy: 0.8319\n",
      "Epoch 70/200\n",
      "127/127 [==============================] - 88s 695ms/step - loss: 0.2129 - accuracy: 0.9200 - val_loss: 0.6198 - val_accuracy: 0.8291\n",
      "Epoch 71/200\n",
      "127/127 [==============================] - 85s 672ms/step - loss: 0.2110 - accuracy: 0.9178 - val_loss: 0.7495 - val_accuracy: 0.7997\n",
      "Epoch 72/200\n",
      "127/127 [==============================] - 84s 658ms/step - loss: 0.2233 - accuracy: 0.9134 - val_loss: 0.6197 - val_accuracy: 0.8151\n",
      "Epoch 73/200\n",
      "127/127 [==============================] - 85s 669ms/step - loss: 0.2008 - accuracy: 0.9218 - val_loss: 0.6619 - val_accuracy: 0.8053\n",
      "Epoch 74/200\n",
      "127/127 [==============================] - 83s 654ms/step - loss: 0.2105 - accuracy: 0.9191 - val_loss: 0.6209 - val_accuracy: 0.8151\n",
      "Epoch 75/200\n",
      "127/127 [==============================] - 82s 644ms/step - loss: 0.2088 - accuracy: 0.9257 - val_loss: 0.6693 - val_accuracy: 0.8165\n",
      "Epoch 76/200\n",
      "127/127 [==============================] - 81s 639ms/step - loss: 0.1952 - accuracy: 0.9245 - val_loss: 0.6628 - val_accuracy: 0.8067\n",
      "Epoch 77/200\n",
      "127/127 [==============================] - 87s 682ms/step - loss: 0.1925 - accuracy: 0.9237 - val_loss: 0.7407 - val_accuracy: 0.7997\n",
      "Epoch 78/200\n",
      "127/127 [==============================] - 81s 636ms/step - loss: 0.1825 - accuracy: 0.9294 - val_loss: 0.6507 - val_accuracy: 0.8081\n",
      "Epoch 79/200\n",
      "127/127 [==============================] - 81s 641ms/step - loss: 0.1781 - accuracy: 0.9329 - val_loss: 0.7572 - val_accuracy: 0.8109\n",
      "Epoch 80/200\n",
      "127/127 [==============================] - 84s 658ms/step - loss: 0.2065 - accuracy: 0.9250 - val_loss: 0.7223 - val_accuracy: 0.8165\n",
      "Epoch 81/200\n",
      "127/127 [==============================] - 86s 677ms/step - loss: 0.2016 - accuracy: 0.9223 - val_loss: 0.8081 - val_accuracy: 0.7857\n",
      "Epoch 82/200\n",
      "127/127 [==============================] - 84s 663ms/step - loss: 0.2013 - accuracy: 0.9247 - val_loss: 0.7047 - val_accuracy: 0.8081\n",
      "Epoch 83/200\n",
      "127/127 [==============================] - 83s 652ms/step - loss: 0.1974 - accuracy: 0.9287 - val_loss: 0.6538 - val_accuracy: 0.8109\n",
      "Epoch 84/200\n",
      "127/127 [==============================] - 84s 661ms/step - loss: 0.1852 - accuracy: 0.9297 - val_loss: 0.7177 - val_accuracy: 0.8053\n",
      "Epoch 85/200\n",
      "127/127 [==============================] - 86s 681ms/step - loss: 0.1823 - accuracy: 0.9311 - val_loss: 0.6431 - val_accuracy: 0.8095\n",
      "Epoch 86/200\n",
      "127/127 [==============================] - 84s 662ms/step - loss: 0.1841 - accuracy: 0.9321 - val_loss: 0.6952 - val_accuracy: 0.8151\n",
      "Epoch 87/200\n",
      "127/127 [==============================] - 83s 655ms/step - loss: 0.1873 - accuracy: 0.9299 - val_loss: 0.7277 - val_accuracy: 0.7955\n",
      "Epoch 88/200\n",
      "127/127 [==============================] - 81s 641ms/step - loss: 0.1888 - accuracy: 0.9265 - val_loss: 0.6484 - val_accuracy: 0.8193\n",
      "Epoch 89/200\n",
      "127/127 [==============================] - 87s 683ms/step - loss: 0.1678 - accuracy: 0.9348 - val_loss: 0.7411 - val_accuracy: 0.7997\n",
      "Epoch 00089: early stopping\n"
     ]
    }
   ],
   "source": [
    "model = create_model()\n",
    "curr_model_hist = fit_model()"
   ]
  },
  {
   "cell_type": "code",
   "execution_count": 17,
   "metadata": {
    "execution": {
     "iopub.execute_input": "2020-09-21T08:33:55.480270Z",
     "iopub.status.busy": "2020-09-21T08:33:55.478917Z",
     "iopub.status.idle": "2020-09-21T08:33:58.492490Z",
     "shell.execute_reply": "2020-09-21T08:33:58.486854Z"
    },
    "papermill": {
     "duration": 7.712211,
     "end_time": "2020-09-21T08:33:58.492630",
     "exception": false,
     "start_time": "2020-09-21T08:33:50.780419",
     "status": "completed"
    },
    "tags": []
   },
   "outputs": [],
   "source": [
    "model.save('model')"
   ]
  },
  {
   "cell_type": "code",
   "execution_count": 18,
   "metadata": {
    "execution": {
     "iopub.execute_input": "2020-09-21T08:34:07.870397Z",
     "iopub.status.busy": "2020-09-21T08:34:07.868053Z",
     "iopub.status.idle": "2020-09-21T08:34:07.871296Z",
     "shell.execute_reply": "2020-09-21T08:34:07.871852Z"
    },
    "papermill": {
     "duration": 4.667844,
     "end_time": "2020-09-21T08:34:07.872014",
     "exception": false,
     "start_time": "2020-09-21T08:34:03.204170",
     "status": "completed"
    },
    "tags": []
   },
   "outputs": [],
   "source": [
    "#from tensorboard import notebook\n",
    "#notebook.list()"
   ]
  },
  {
   "cell_type": "code",
   "execution_count": 19,
   "metadata": {
    "execution": {
     "iopub.execute_input": "2020-09-21T08:34:16.962301Z",
     "iopub.status.busy": "2020-09-21T08:34:16.960360Z",
     "iopub.status.idle": "2020-09-21T08:34:16.963022Z",
     "shell.execute_reply": "2020-09-21T08:34:16.963597Z"
    },
    "papermill": {
     "duration": 4.611166,
     "end_time": "2020-09-21T08:34:16.963734",
     "exception": false,
     "start_time": "2020-09-21T08:34:12.352568",
     "status": "completed"
    },
    "tags": []
   },
   "outputs": [],
   "source": [
    "#notebook.display(port=6006, height=1000) "
   ]
  },
  {
   "cell_type": "code",
   "execution_count": 20,
   "metadata": {
    "execution": {
     "iopub.execute_input": "2020-09-21T08:34:25.914859Z",
     "iopub.status.busy": "2020-09-21T08:34:25.913357Z",
     "iopub.status.idle": "2020-09-21T08:34:27.602622Z",
     "shell.execute_reply": "2020-09-21T08:34:27.604021Z"
    },
    "papermill": {
     "duration": 6.173488,
     "end_time": "2020-09-21T08:34:27.604211",
     "exception": false,
     "start_time": "2020-09-21T08:34:21.430723",
     "status": "completed"
    },
    "tags": []
   },
   "outputs": [
    {
     "name": "stdout",
     "output_type": "stream",
     "text": [
      "8/8 [==============================] - 1s 146ms/step - loss: 47.4120 - accuracy: 0.7092\n",
      "\n",
      "Test Accuracy =  70.92% \n",
      "Test loss =  47.411987\n"
     ]
    }
   ],
   "source": [
    "evaluate_metrics = model.evaluate(X_test, y_test)\n",
    "print(\"\\nTest Accuracy = \", \"{:.2f}%\".format(evaluate_metrics[1]*100),\"\\nTest loss = \" ,\"{:.6f}\".format(evaluate_metrics[0]))"
   ]
  },
  {
   "cell_type": "code",
   "execution_count": 21,
   "metadata": {
    "execution": {
     "iopub.execute_input": "2020-09-21T08:34:37.188699Z",
     "iopub.status.busy": "2020-09-21T08:34:37.187523Z",
     "iopub.status.idle": "2020-09-21T08:34:37.685215Z",
     "shell.execute_reply": "2020-09-21T08:34:37.683774Z"
    },
    "papermill": {
     "duration": 5.560144,
     "end_time": "2020-09-21T08:34:37.685380",
     "exception": false,
     "start_time": "2020-09-21T08:34:32.125236",
     "status": "completed"
    },
    "tags": []
   },
   "outputs": [
    {
     "data": {
      "image/png": "[encoded data removed]",
      "text/plain": [
       "<Figure size 432x288 with 1 Axes>"
      ]
     },
     "metadata": {
      "needs_background": "light"
     },
     "output_type": "display_data"
    },
    {
     "data": {
      "image/png": "[encoded data removed]",
      "text/plain": [
       "<Figure size 432x288 with 1 Axes>"
      ]
     },
     "metadata": {
      "needs_background": "light"
     },
     "output_type": "display_data"
    }
   ],
   "source": [
    "def plot_accuracy(y):\n",
    "    if(y == True):\n",
    "        plt.plot(curr_model_hist.history['accuracy'])\n",
    "        plt.plot(curr_model_hist.history['val_accuracy'])\n",
    "        plt.legend(['train', 'test'], loc='lower right')\n",
    "        plt.title('accuracy plot - train vs test')\n",
    "        plt.xlabel('epoch')\n",
    "        plt.ylabel('accuracy')\n",
    "        plt.show()\n",
    "    else:\n",
    "        pass\n",
    "    return\n",
    "\n",
    "def plot_loss(y):\n",
    "    if(y == True):\n",
    "        plt.plot(curr_model_hist.history['loss'])\n",
    "        plt.plot(curr_model_hist.history['val_loss'])\n",
    "        plt.legend(['training loss', 'validation loss'], loc = 'upper right')\n",
    "        plt.title('loss plot - training vs vaidation')\n",
    "        plt.xlabel('epoch')\n",
    "        plt.ylabel('loss')\n",
    "        plt.show()\n",
    "    else:\n",
    "        pass\n",
    "    return\n",
    "\n",
    "\n",
    "plot_accuracy(True)\n",
    "plot_loss(True)"
   ]
  },
  {
   "cell_type": "code",
   "execution_count": 22,
   "metadata": {
    "execution": {
     "iopub.execute_input": "2020-09-21T08:34:47.511483Z",
     "iopub.status.busy": "2020-09-21T08:34:47.509949Z",
     "iopub.status.idle": "2020-09-21T08:34:48.301896Z",
     "shell.execute_reply": "2020-09-21T08:34:48.301188Z"
    },
    "papermill": {
     "duration": 5.413414,
     "end_time": "2020-09-21T08:34:48.302026",
     "exception": false,
     "start_time": "2020-09-21T08:34:42.888612",
     "status": "completed"
    },
    "tags": []
   },
   "outputs": [],
   "source": [
    "y_pred = np.round(model.predict(X_test), 0)\n",
    "y_pred = np.argmax(y_pred, axis=1)\n",
    "\n",
    "from sklearn.preprocessing import OneHotEncoder\n",
    "\n",
    "onehot_encoder = OneHotEncoder(sparse=False)\n",
    "y_pred1 = y_pred.reshape(len(y_pred), 1)\n",
    "onehot_encoded = onehot_encoder.fit_transform(y_pred1)"
   ]
  },
  {
   "cell_type": "code",
   "execution_count": 23,
   "metadata": {
    "execution": {
     "iopub.execute_input": "2020-09-21T08:34:57.534775Z",
     "iopub.status.busy": "2020-09-21T08:34:57.534035Z",
     "iopub.status.idle": "2020-09-21T08:34:57.543355Z",
     "shell.execute_reply": "2020-09-21T08:34:57.544145Z"
    },
    "papermill": {
     "duration": 4.446586,
     "end_time": "2020-09-21T08:34:57.544319",
     "exception": false,
     "start_time": "2020-09-21T08:34:53.097733",
     "status": "completed"
    },
    "tags": []
   },
   "outputs": [
    {
     "name": "stdout",
     "output_type": "stream",
     "text": [
      "ROC AUC Score:  0.7371239973734734\n"
     ]
    }
   ],
   "source": [
    "from sklearn.metrics import roc_auc_score\n",
    "\n",
    "print(\"ROC AUC Score: \",roc_auc_score(y_test, onehot_encoded))"
   ]
  },
  {
   "cell_type": "code",
   "execution_count": 24,
   "metadata": {
    "execution": {
     "iopub.execute_input": "2020-09-21T08:35:06.893810Z",
     "iopub.status.busy": "2020-09-21T08:35:06.892765Z",
     "iopub.status.idle": "2020-09-21T08:35:06.907139Z",
     "shell.execute_reply": "2020-09-21T08:35:06.908416Z"
    },
    "papermill": {
     "duration": 4.610912,
     "end_time": "2020-09-21T08:35:06.908614",
     "exception": false,
     "start_time": "2020-09-21T08:35:02.297702",
     "status": "completed"
    },
    "tags": []
   },
   "outputs": [
    {
     "name": "stdout",
     "output_type": "stream",
     "text": [
      "              precision    recall  f1-score   support\n",
      "\n",
      "           0      0.551     0.731     0.628        52\n",
      "           1      0.842     0.721     0.777       111\n",
      "           2      0.702     0.776     0.737        76\n",
      "           3      0.333     0.083     0.133        12\n",
      "\n",
      "    accuracy                          0.709       251\n",
      "   macro avg      0.607     0.578     0.569       251\n",
      "weighted avg      0.715     0.709     0.703       251\n",
      "\n"
     ]
    }
   ],
   "source": [
    "from sklearn.metrics import f1_score\n",
    "from sklearn import metrics\n",
    "from numpy import argmax\n",
    "\n",
    "print(metrics.classification_report(y_test.argmax(axis = 1), y_pred, digits=3))"
   ]
  },
  {
   "cell_type": "code",
   "execution_count": 25,
   "metadata": {
    "execution": {
     "iopub.execute_input": "2020-09-21T08:35:16.115667Z",
     "iopub.status.busy": "2020-09-21T08:35:16.114926Z",
     "iopub.status.idle": "2020-09-21T08:35:16.123022Z",
     "shell.execute_reply": "2020-09-21T08:35:16.123638Z"
    },
    "papermill": {
     "duration": 4.462289,
     "end_time": "2020-09-21T08:35:16.123782",
     "exception": false,
     "start_time": "2020-09-21T08:35:11.661493",
     "status": "completed"
    },
    "tags": []
   },
   "outputs": [
    {
     "data": {
      "text/plain": [
       "array([[38,  8,  6,  0],\n",
       "       [12, 80, 18,  1],\n",
       "       [11,  5, 59,  1],\n",
       "       [ 8,  2,  1,  1]])"
      ]
     },
     "execution_count": 25,
     "metadata": {},
     "output_type": "execute_result"
    }
   ],
   "source": [
    "from sklearn.metrics import confusion_matrix\n",
    "\n",
    "matrix = confusion_matrix(y_test.argmax(axis=1), y_pred)\n",
    "matrix"
   ]
  },
  {
   "cell_type": "code",
   "execution_count": 26,
   "metadata": {
    "execution": {
     "iopub.execute_input": "2020-09-21T08:35:25.401743Z",
     "iopub.status.busy": "2020-09-21T08:35:25.400708Z",
     "iopub.status.idle": "2020-09-21T08:35:36.345886Z",
     "shell.execute_reply": "2020-09-21T08:35:36.346832Z"
    },
    "papermill": {
     "duration": 15.704439,
     "end_time": "2020-09-21T08:35:36.347019",
     "exception": false,
     "start_time": "2020-09-21T08:35:20.642580",
     "status": "completed"
    },
    "tags": []
   },
   "outputs": [
    {
     "name": "stdout",
     "output_type": "stream",
     "text": [
      "TFlite file generated\n"
     ]
    }
   ],
   "source": [
    "model_for_export = tfmot.sparsity.keras.strip_pruning(model)\n",
    "\n",
    "converter = tf.lite.TFLiteConverter.from_keras_model(model_for_export)\n",
    "pruned_model = converter.convert()\n",
    "\n",
    "converter.optimizations = [tf.lite.Optimize.DEFAULT]\n",
    "quantized_pruned_model = converter.convert()\n",
    "\n",
    "open(\"quantized_pruned_model_tflite.tflite\", \"wb\").write(quantized_pruned_model)\n",
    "open(\"pruned_model_tflite.tflite\", \"wb\").write(pruned_model)\n",
    "\n",
    "print(\"TFlite file generated\")"
   ]
  },
  {
   "cell_type": "code",
   "execution_count": 27,
   "metadata": {
    "execution": {
     "iopub.execute_input": "2020-09-21T08:35:46.407803Z",
     "iopub.status.busy": "2020-09-21T08:35:46.406467Z",
     "iopub.status.idle": "2020-09-21T08:44:40.302289Z",
     "shell.execute_reply": "2020-09-21T08:44:40.303198Z"
    },
    "papermill": {
     "duration": 538.957902,
     "end_time": "2020-09-21T08:44:40.303396",
     "exception": false,
     "start_time": "2020-09-21T08:35:41.345494",
     "status": "completed"
    },
    "tags": []
   },
   "outputs": [
    {
     "name": "stdout",
     "output_type": "stream",
     "text": [
      "Evaluated on 0 results so far.\n",
      "\n",
      "\n",
      "Pruned TFLite test accuracy: 0.8545816733067729\n",
      "Evaluated on 0 results so far.\n",
      "\n",
      "\n",
      "Pruned and Quantized TFLite test accuracy: 0.8446215139442231\n"
     ]
    }
   ],
   "source": [
    "import numpy as np\n",
    "\n",
    "def evaluate_model(interpreter):\n",
    "  input_index = interpreter.get_input_details()[0][\"index\"]\n",
    "  output_index = interpreter.get_output_details()[0][\"index\"]\n",
    "\n",
    "  # Run predictions on ever y image in the \"test\" dataset.\n",
    "  prediction_digits = []\n",
    "  for i, test_image in enumerate(X_test):\n",
    "    if i % 1000 == 0:\n",
    "      print('Evaluated on {n} results so far.'.format(n=i))\n",
    "    # Pre-processing: add batch dimension and convert to float32 to match with\n",
    "    # the model's input data format.\n",
    "    test_image = np.expand_dims(test_image, axis=0).astype(np.float32)\n",
    "    interpreter.set_tensor(input_index, test_image)\n",
    "\n",
    "    # Run inference.\n",
    "    interpreter.invoke()\n",
    "\n",
    "    # Post-processing: remove batch dimension and find the digit with highest\n",
    "    # probability.\n",
    "    output = interpreter.tensor(output_index)\n",
    "    digit = np.argmax(output()[0])\n",
    "    prediction_digits.append(digit)\n",
    "  print('\\n')\n",
    "  # Compare prediction results with ground truth labels to calculate accuracy.\n",
    "  prediction_digits = np.array(prediction_digits)\n",
    "  prediction_digits = to_categorical(prediction_digits)\n",
    "  accuracy = (prediction_digits == y_test).mean()\n",
    "  return accuracy\n",
    "\n",
    "\n",
    "\n",
    "interpreter = tf.lite.Interpreter(model_content=pruned_model)\n",
    "interpreter.allocate_tensors()\n",
    "test_accuracy = evaluate_model(interpreter)\n",
    "\n",
    "print('Pruned TFLite test accuracy:', test_accuracy)\n",
    "\n",
    "interpreter = tf.lite.Interpreter(model_content=quantized_pruned_model)\n",
    "interpreter.allocate_tensors()\n",
    "test_accuracy_quantized = evaluate_model(interpreter)\n",
    "\n",
    "print('Pruned and Quantized TFLite test accuracy:', test_accuracy_quantized)"
   ]
  }
 ],
 "metadata": {
  "kernelspec": {
   "display_name": "Python 3",
   "language": "python",
   "name": "python3"
  },
  "language_info": {
   "codemirror_mode": {
    "name": "ipython",
    "version": 3
   },
   "file_extension": ".py",
   "mimetype": "text/x-python",
   "name": "python",
   "nbconvert_exporter": "python",
   "pygments_lexer": "ipython3",
   "version": "3.7.6"
  },
  "papermill": {
   "duration": 8274.887913,
   "end_time": "2020-09-21T08:44:46.942688",
   "environment_variables": {},
   "exception": null,
   "input_path": "__notebook__.ipynb",
   "output_path": "__notebook__.ipynb",
   "parameters": {},
   "start_time": "2020-09-21T06:26:52.054775",
   "version": "2.1.0"
  }
 },
 "nbformat": 4,
 "nbformat_minor": 4
}
